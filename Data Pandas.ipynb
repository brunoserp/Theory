{
 "cells": [
  {
   "cell_type": "markdown",
   "id": "d9c34687-5daf-4aa1-8985-cb4ed3ebb37b",
   "metadata": {},
   "source": [
    "<h2>COMO MANUSEAR DATA NO PANDAS?</h2>"
   ]
  },
  {
   "attachments": {},
   "cell_type": "markdown",
   "id": "4af59b3b-2c98-4ea4-8a52-ff19a918080a",
   "metadata": {},
   "source": [
    "Converter a coluna de data para o dtype datetime é essencial para realizar operações, agrupamentos, filtros, etc usando essa data.\n",
    "O método que converte o dtype de uma coluna para datetime é o pd.datetime(arg,format), com arg o localizador dos valores a serem formatados, e format o formato da data do arg."
   ]
  },
  {
   "cell_type": "markdown",
   "id": "1b87923d-7053-4391-a23f-812bbcdd6f1e",
   "metadata": {},
   "source": [
    "Exemplo:"
   ]
  },
  {
   "cell_type": "code",
   "execution_count": 104,
   "id": "1f11e1c1-7238-4911-a384-ed8ceb2f263f",
   "metadata": {},
   "outputs": [],
   "source": [
    "import pandas as pd"
   ]
  },
  {
   "cell_type": "code",
   "execution_count": 105,
   "id": "0b0dba86-05d5-469f-a5f9-bb4ac19a224a",
   "metadata": {},
   "outputs": [
    {
     "data": {
      "text/html": [
       "<div>\n",
       "<style scoped>\n",
       "    .dataframe tbody tr th:only-of-type {\n",
       "        vertical-align: middle;\n",
       "    }\n",
       "\n",
       "    .dataframe tbody tr th {\n",
       "        vertical-align: top;\n",
       "    }\n",
       "\n",
       "    .dataframe thead th {\n",
       "        text-align: right;\n",
       "    }\n",
       "</style>\n",
       "<table border=\"1\" class=\"dataframe\">\n",
       "  <thead>\n",
       "    <tr style=\"text-align: right;\">\n",
       "      <th></th>\n",
       "      <th>data</th>\n",
       "    </tr>\n",
       "  </thead>\n",
       "  <tbody>\n",
       "    <tr>\n",
       "      <th>0</th>\n",
       "      <td>01/08/2023</td>\n",
       "    </tr>\n",
       "    <tr>\n",
       "      <th>1</th>\n",
       "      <td>10/01/2024</td>\n",
       "    </tr>\n",
       "    <tr>\n",
       "      <th>2</th>\n",
       "      <td>15/12/2024</td>\n",
       "    </tr>\n",
       "  </tbody>\n",
       "</table>\n",
       "</div>"
      ],
      "text/plain": [
       "         data\n",
       "0  01/08/2023\n",
       "1  10/01/2024\n",
       "2  15/12/2024"
      ]
     },
     "execution_count": 105,
     "metadata": {},
     "output_type": "execute_result"
    }
   ],
   "source": [
    "dic_data = {'data': ['01/08/2023','10/01/2024','15/12/2024']}\n",
    "df=pd.DataFrame(dic_data)\n",
    "df"
   ]
  },
  {
   "cell_type": "code",
   "execution_count": 106,
   "id": "74e8f454-5d35-4cfc-8319-7bd2d31d61f9",
   "metadata": {},
   "outputs": [
    {
     "data": {
      "text/plain": [
       "data    object\n",
       "dtype: object"
      ]
     },
     "execution_count": 106,
     "metadata": {},
     "output_type": "execute_result"
    }
   ],
   "source": [
    "df.dtypes"
   ]
  },
  {
   "cell_type": "markdown",
   "id": "300dce4e-9170-4d45-820e-0bd48b3dfd08",
   "metadata": {},
   "source": [
    "<h4>Observe que, embora o visual das datas esteja conforme o desejado, sua formatação está como object (string). Se quiséssemos fazer uma operação, como extrair o mês dessa coluna, teríamos um erro:</h4>"
   ]
  },
  {
   "cell_type": "code",
   "execution_count": 107,
   "id": "608ee339-1f2f-4aa6-afb6-1703d9037868",
   "metadata": {},
   "outputs": [
    {
     "ename": "AttributeError",
     "evalue": "Can only use .dt accessor with datetimelike values",
     "output_type": "error",
     "traceback": [
      "\u001b[1;31m---------------------------------------------------------------------------\u001b[0m",
      "\u001b[1;31mAttributeError\u001b[0m                            Traceback (most recent call last)",
      "Cell \u001b[1;32mIn[107], line 1\u001b[0m\n\u001b[1;32m----> 1\u001b[0m \u001b[43mdf\u001b[49m\u001b[43m[\u001b[49m\u001b[38;5;124;43m'\u001b[39;49m\u001b[38;5;124;43mdata\u001b[39;49m\u001b[38;5;124;43m'\u001b[39;49m\u001b[43m]\u001b[49m\u001b[38;5;241;43m.\u001b[39;49m\u001b[43mdt\u001b[49m\u001b[38;5;241m.\u001b[39mmonth\n",
      "File \u001b[1;32m~\\AppData\\Local\\Programs\\Python\\Python312\\Lib\\site-packages\\pandas\\core\\generic.py:6299\u001b[0m, in \u001b[0;36mNDFrame.__getattr__\u001b[1;34m(self, name)\u001b[0m\n\u001b[0;32m   6292\u001b[0m \u001b[38;5;28;01mif\u001b[39;00m (\n\u001b[0;32m   6293\u001b[0m     name \u001b[38;5;129;01mnot\u001b[39;00m \u001b[38;5;129;01min\u001b[39;00m \u001b[38;5;28mself\u001b[39m\u001b[38;5;241m.\u001b[39m_internal_names_set\n\u001b[0;32m   6294\u001b[0m     \u001b[38;5;129;01mand\u001b[39;00m name \u001b[38;5;129;01mnot\u001b[39;00m \u001b[38;5;129;01min\u001b[39;00m \u001b[38;5;28mself\u001b[39m\u001b[38;5;241m.\u001b[39m_metadata\n\u001b[0;32m   6295\u001b[0m     \u001b[38;5;129;01mand\u001b[39;00m name \u001b[38;5;129;01mnot\u001b[39;00m \u001b[38;5;129;01min\u001b[39;00m \u001b[38;5;28mself\u001b[39m\u001b[38;5;241m.\u001b[39m_accessors\n\u001b[0;32m   6296\u001b[0m     \u001b[38;5;129;01mand\u001b[39;00m \u001b[38;5;28mself\u001b[39m\u001b[38;5;241m.\u001b[39m_info_axis\u001b[38;5;241m.\u001b[39m_can_hold_identifiers_and_holds_name(name)\n\u001b[0;32m   6297\u001b[0m ):\n\u001b[0;32m   6298\u001b[0m     \u001b[38;5;28;01mreturn\u001b[39;00m \u001b[38;5;28mself\u001b[39m[name]\n\u001b[1;32m-> 6299\u001b[0m \u001b[38;5;28;01mreturn\u001b[39;00m \u001b[38;5;28;43mobject\u001b[39;49m\u001b[38;5;241;43m.\u001b[39;49m\u001b[38;5;21;43m__getattribute__\u001b[39;49m\u001b[43m(\u001b[49m\u001b[38;5;28;43mself\u001b[39;49m\u001b[43m,\u001b[49m\u001b[43m \u001b[49m\u001b[43mname\u001b[49m\u001b[43m)\u001b[49m\n",
      "File \u001b[1;32m~\\AppData\\Local\\Programs\\Python\\Python312\\Lib\\site-packages\\pandas\\core\\accessor.py:224\u001b[0m, in \u001b[0;36mCachedAccessor.__get__\u001b[1;34m(self, obj, cls)\u001b[0m\n\u001b[0;32m    221\u001b[0m \u001b[38;5;28;01mif\u001b[39;00m obj \u001b[38;5;129;01mis\u001b[39;00m \u001b[38;5;28;01mNone\u001b[39;00m:\n\u001b[0;32m    222\u001b[0m     \u001b[38;5;66;03m# we're accessing the attribute of the class, i.e., Dataset.geo\u001b[39;00m\n\u001b[0;32m    223\u001b[0m     \u001b[38;5;28;01mreturn\u001b[39;00m \u001b[38;5;28mself\u001b[39m\u001b[38;5;241m.\u001b[39m_accessor\n\u001b[1;32m--> 224\u001b[0m accessor_obj \u001b[38;5;241m=\u001b[39m \u001b[38;5;28;43mself\u001b[39;49m\u001b[38;5;241;43m.\u001b[39;49m\u001b[43m_accessor\u001b[49m\u001b[43m(\u001b[49m\u001b[43mobj\u001b[49m\u001b[43m)\u001b[49m\n\u001b[0;32m    225\u001b[0m \u001b[38;5;66;03m# Replace the property with the accessor object. Inspired by:\u001b[39;00m\n\u001b[0;32m    226\u001b[0m \u001b[38;5;66;03m# https://www.pydanny.com/cached-property.html\u001b[39;00m\n\u001b[0;32m    227\u001b[0m \u001b[38;5;66;03m# We need to use object.__setattr__ because we overwrite __setattr__ on\u001b[39;00m\n\u001b[0;32m    228\u001b[0m \u001b[38;5;66;03m# NDFrame\u001b[39;00m\n\u001b[0;32m    229\u001b[0m \u001b[38;5;28mobject\u001b[39m\u001b[38;5;241m.\u001b[39m\u001b[38;5;21m__setattr__\u001b[39m(obj, \u001b[38;5;28mself\u001b[39m\u001b[38;5;241m.\u001b[39m_name, accessor_obj)\n",
      "File \u001b[1;32m~\\AppData\\Local\\Programs\\Python\\Python312\\Lib\\site-packages\\pandas\\core\\indexes\\accessors.py:643\u001b[0m, in \u001b[0;36mCombinedDatetimelikeProperties.__new__\u001b[1;34m(cls, data)\u001b[0m\n\u001b[0;32m    640\u001b[0m \u001b[38;5;28;01melif\u001b[39;00m \u001b[38;5;28misinstance\u001b[39m(data\u001b[38;5;241m.\u001b[39mdtype, PeriodDtype):\n\u001b[0;32m    641\u001b[0m     \u001b[38;5;28;01mreturn\u001b[39;00m PeriodProperties(data, orig)\n\u001b[1;32m--> 643\u001b[0m \u001b[38;5;28;01mraise\u001b[39;00m \u001b[38;5;167;01mAttributeError\u001b[39;00m(\u001b[38;5;124m\"\u001b[39m\u001b[38;5;124mCan only use .dt accessor with datetimelike values\u001b[39m\u001b[38;5;124m\"\u001b[39m)\n",
      "\u001b[1;31mAttributeError\u001b[0m: Can only use .dt accessor with datetimelike values"
     ]
    }
   ],
   "source": [
    "df['data'].dt.month"
   ]
  },
  {
   "cell_type": "markdown",
   "id": "e18eaf8e-10d3-4300-a685-f642ebf8690b",
   "metadata": {},
   "source": [
    "<h4>Para isso, é necessária a conversão do dtype object para datetime, por meio do pd.to_datetime():</h4>"
   ]
  },
  {
   "cell_type": "code",
   "execution_count": 108,
   "id": "9681bf12-a6e6-4bf0-827a-35d2cfa61385",
   "metadata": {},
   "outputs": [
    {
     "data": {
      "text/html": [
       "<div>\n",
       "<style scoped>\n",
       "    .dataframe tbody tr th:only-of-type {\n",
       "        vertical-align: middle;\n",
       "    }\n",
       "\n",
       "    .dataframe tbody tr th {\n",
       "        vertical-align: top;\n",
       "    }\n",
       "\n",
       "    .dataframe thead th {\n",
       "        text-align: right;\n",
       "    }\n",
       "</style>\n",
       "<table border=\"1\" class=\"dataframe\">\n",
       "  <thead>\n",
       "    <tr style=\"text-align: right;\">\n",
       "      <th></th>\n",
       "      <th>data</th>\n",
       "      <th>data_convertida</th>\n",
       "    </tr>\n",
       "  </thead>\n",
       "  <tbody>\n",
       "    <tr>\n",
       "      <th>0</th>\n",
       "      <td>01/08/2023</td>\n",
       "      <td>2023-08-01</td>\n",
       "    </tr>\n",
       "    <tr>\n",
       "      <th>1</th>\n",
       "      <td>10/01/2024</td>\n",
       "      <td>2024-01-10</td>\n",
       "    </tr>\n",
       "    <tr>\n",
       "      <th>2</th>\n",
       "      <td>15/12/2024</td>\n",
       "      <td>2024-12-15</td>\n",
       "    </tr>\n",
       "  </tbody>\n",
       "</table>\n",
       "</div>"
      ],
      "text/plain": [
       "         data data_convertida\n",
       "0  01/08/2023      2023-08-01\n",
       "1  10/01/2024      2024-01-10\n",
       "2  15/12/2024      2024-12-15"
      ]
     },
     "execution_count": 108,
     "metadata": {},
     "output_type": "execute_result"
    }
   ],
   "source": [
    "df['data_convertida'] = pd.to_datetime(df['data'],format='%d/%m/%Y')\n",
    "df"
   ]
  },
  {
   "cell_type": "code",
   "execution_count": 109,
   "id": "395fc53b-82b6-4119-8467-1dac8eba4e15",
   "metadata": {},
   "outputs": [
    {
     "data": {
      "text/plain": [
       "data                       object\n",
       "data_convertida    datetime64[ns]\n",
       "dtype: object"
      ]
     },
     "execution_count": 109,
     "metadata": {},
     "output_type": "execute_result"
    }
   ],
   "source": [
    "df.dtypes"
   ]
  },
  {
   "cell_type": "markdown",
   "id": "08eaa56c-8cc1-4e6d-9701-ae918381acc2",
   "metadata": {},
   "source": [
    "<h4>Criamos uma nova coluna cujo dtype é datetime. Agora, vamos tentar extrair o mês:</h4>"
   ]
  },
  {
   "cell_type": "code",
   "execution_count": 110,
   "id": "a0547ec5-f7b8-44e6-8d35-63018968a2ab",
   "metadata": {},
   "outputs": [
    {
     "data": {
      "text/plain": [
       "0     8\n",
       "1     1\n",
       "2    12\n",
       "Name: data_convertida, dtype: int32"
      ]
     },
     "execution_count": 110,
     "metadata": {},
     "output_type": "execute_result"
    }
   ],
   "source": [
    "df['data_convertida'].dt.month"
   ]
  },
  {
   "cell_type": "code",
   "execution_count": 111,
   "id": "06b24aa5-1c3f-4506-892a-610b2440116d",
   "metadata": {},
   "outputs": [
    {
     "data": {
      "text/html": [
       "<div>\n",
       "<style scoped>\n",
       "    .dataframe tbody tr th:only-of-type {\n",
       "        vertical-align: middle;\n",
       "    }\n",
       "\n",
       "    .dataframe tbody tr th {\n",
       "        vertical-align: top;\n",
       "    }\n",
       "\n",
       "    .dataframe thead th {\n",
       "        text-align: right;\n",
       "    }\n",
       "</style>\n",
       "<table border=\"1\" class=\"dataframe\">\n",
       "  <thead>\n",
       "    <tr style=\"text-align: right;\">\n",
       "      <th></th>\n",
       "      <th>data</th>\n",
       "      <th>data_convertida</th>\n",
       "      <th>data_strftime</th>\n",
       "    </tr>\n",
       "  </thead>\n",
       "  <tbody>\n",
       "    <tr>\n",
       "      <th>0</th>\n",
       "      <td>01/08/2023</td>\n",
       "      <td>2023-08-01</td>\n",
       "      <td>08-23</td>\n",
       "    </tr>\n",
       "    <tr>\n",
       "      <th>1</th>\n",
       "      <td>10/01/2024</td>\n",
       "      <td>2024-01-10</td>\n",
       "      <td>01-24</td>\n",
       "    </tr>\n",
       "    <tr>\n",
       "      <th>2</th>\n",
       "      <td>15/12/2024</td>\n",
       "      <td>2024-12-15</td>\n",
       "      <td>12-24</td>\n",
       "    </tr>\n",
       "  </tbody>\n",
       "</table>\n",
       "</div>"
      ],
      "text/plain": [
       "         data data_convertida data_strftime\n",
       "0  01/08/2023      2023-08-01         08-23\n",
       "1  10/01/2024      2024-01-10         01-24\n",
       "2  15/12/2024      2024-12-15         12-24"
      ]
     },
     "execution_count": 111,
     "metadata": {},
     "output_type": "execute_result"
    }
   ],
   "source": [
    "df['data_strftime'] = df['data_convertida'].dt.strftime('%m-%y')\n",
    "df"
   ]
  },
  {
   "cell_type": "markdown",
   "id": "2056c62f-8ce9-4db1-80eb-78fd48bad994",
   "metadata": {},
   "source": [
    "<h4>Porém, como seria se a formatação, ou seja, o visual da coluna de data, fosse diferente?</h4>"
   ]
  },
  {
   "cell_type": "code",
   "execution_count": 112,
   "id": "94b6f14e-5919-48bd-adf7-8838675002e8",
   "metadata": {},
   "outputs": [
    {
     "data": {
      "text/html": [
       "<div>\n",
       "<style scoped>\n",
       "    .dataframe tbody tr th:only-of-type {\n",
       "        vertical-align: middle;\n",
       "    }\n",
       "\n",
       "    .dataframe tbody tr th {\n",
       "        vertical-align: top;\n",
       "    }\n",
       "\n",
       "    .dataframe thead th {\n",
       "        text-align: right;\n",
       "    }\n",
       "</style>\n",
       "<table border=\"1\" class=\"dataframe\">\n",
       "  <thead>\n",
       "    <tr style=\"text-align: right;\">\n",
       "      <th></th>\n",
       "      <th>data</th>\n",
       "    </tr>\n",
       "  </thead>\n",
       "  <tbody>\n",
       "    <tr>\n",
       "      <th>0</th>\n",
       "      <td>09-20</td>\n",
       "    </tr>\n",
       "    <tr>\n",
       "      <th>1</th>\n",
       "      <td>11-20</td>\n",
       "    </tr>\n",
       "    <tr>\n",
       "      <th>2</th>\n",
       "      <td>01-21</td>\n",
       "    </tr>\n",
       "  </tbody>\n",
       "</table>\n",
       "</div>"
      ],
      "text/plain": [
       "    data\n",
       "0  09-20\n",
       "1  11-20\n",
       "2  01-21"
      ]
     },
     "execution_count": 112,
     "metadata": {},
     "output_type": "execute_result"
    }
   ],
   "source": [
    "dic_data = {'data': ['09-20','11-20','01-21']}\n",
    "df_a = pd.DataFrame(dic_data)\n",
    "df_a"
   ]
  },
  {
   "cell_type": "markdown",
   "id": "248d7ab5-2dfd-4ec3-b079-b79bf3781362",
   "metadata": {},
   "source": [
    "<h4>Aqui, queremos converter essa coluna para datetime. Porém, ela não está no formato dia/mês/ano.\n",
    "O processo é bem parecido, mudando apenas o argumento do format. Antes, estávamos lidando com %d/%m/%Y. Agora, com %m/%y:</h4>"
   ]
  },
  {
   "cell_type": "code",
   "execution_count": 113,
   "id": "ea675d59-19ed-4d27-9785-bdba2fe474a3",
   "metadata": {},
   "outputs": [
    {
     "data": {
      "text/html": [
       "<div>\n",
       "<style scoped>\n",
       "    .dataframe tbody tr th:only-of-type {\n",
       "        vertical-align: middle;\n",
       "    }\n",
       "\n",
       "    .dataframe tbody tr th {\n",
       "        vertical-align: top;\n",
       "    }\n",
       "\n",
       "    .dataframe thead th {\n",
       "        text-align: right;\n",
       "    }\n",
       "</style>\n",
       "<table border=\"1\" class=\"dataframe\">\n",
       "  <thead>\n",
       "    <tr style=\"text-align: right;\">\n",
       "      <th></th>\n",
       "      <th>data</th>\n",
       "      <th>data_convertida</th>\n",
       "    </tr>\n",
       "  </thead>\n",
       "  <tbody>\n",
       "    <tr>\n",
       "      <th>0</th>\n",
       "      <td>09-20</td>\n",
       "      <td>2020-09-01</td>\n",
       "    </tr>\n",
       "    <tr>\n",
       "      <th>1</th>\n",
       "      <td>11-20</td>\n",
       "      <td>2020-11-01</td>\n",
       "    </tr>\n",
       "    <tr>\n",
       "      <th>2</th>\n",
       "      <td>01-21</td>\n",
       "      <td>2021-01-01</td>\n",
       "    </tr>\n",
       "  </tbody>\n",
       "</table>\n",
       "</div>"
      ],
      "text/plain": [
       "    data data_convertida\n",
       "0  09-20      2020-09-01\n",
       "1  11-20      2020-11-01\n",
       "2  01-21      2021-01-01"
      ]
     },
     "execution_count": 113,
     "metadata": {},
     "output_type": "execute_result"
    }
   ],
   "source": [
    "df_a['data_convertida'] = pd.to_datetime(df_a['data'],format='%m-%y')\n",
    "df_a"
   ]
  },
  {
   "cell_type": "markdown",
   "id": "25de637f-b422-4b56-8f95-c35e903fc233",
   "metadata": {},
   "source": [
    "<h4>Nesse link tem a relação de siglas dos elementos/formatos: https://www.w3schools.com/python/python_datetime.asp</h4>"
   ]
  },
  {
   "cell_type": "markdown",
   "id": "cf8ce6fe-8bf7-4a17-bb34-9f0baf92abf9",
   "metadata": {},
   "source": [
    "<h4>Agora, e se quiséssemos concatenar informações na coluna de data antes de converter seu dtype para datetime? Por exemplo, e se quiséssemos adicionar o conteúdo de uma suposta coluna \"dia\" à coluna \"data\". Ou, ainda, se tivéssemos essas informações no DataFrame:</h4>"
   ]
  },
  {
   "cell_type": "code",
   "execution_count": 127,
   "id": "bb589e41-b90c-40f5-bf7e-b91f6de69dd7",
   "metadata": {},
   "outputs": [
    {
     "data": {
      "text/html": [
       "<div>\n",
       "<style scoped>\n",
       "    .dataframe tbody tr th:only-of-type {\n",
       "        vertical-align: middle;\n",
       "    }\n",
       "\n",
       "    .dataframe tbody tr th {\n",
       "        vertical-align: top;\n",
       "    }\n",
       "\n",
       "    .dataframe thead th {\n",
       "        text-align: right;\n",
       "    }\n",
       "</style>\n",
       "<table border=\"1\" class=\"dataframe\">\n",
       "  <thead>\n",
       "    <tr style=\"text-align: right;\">\n",
       "      <th></th>\n",
       "      <th>dia</th>\n",
       "      <th>mes</th>\n",
       "    </tr>\n",
       "  </thead>\n",
       "  <tbody>\n",
       "    <tr>\n",
       "      <th>0</th>\n",
       "      <td>1</td>\n",
       "      <td>2</td>\n",
       "    </tr>\n",
       "    <tr>\n",
       "      <th>1</th>\n",
       "      <td>2</td>\n",
       "      <td>5</td>\n",
       "    </tr>\n",
       "    <tr>\n",
       "      <th>2</th>\n",
       "      <td>3</td>\n",
       "      <td>8</td>\n",
       "    </tr>\n",
       "    <tr>\n",
       "      <th>3</th>\n",
       "      <td>4</td>\n",
       "      <td>11</td>\n",
       "    </tr>\n",
       "    <tr>\n",
       "      <th>4</th>\n",
       "      <td>5</td>\n",
       "      <td>10</td>\n",
       "    </tr>\n",
       "  </tbody>\n",
       "</table>\n",
       "</div>"
      ],
      "text/plain": [
       "   dia  mes\n",
       "0    1    2\n",
       "1    2    5\n",
       "2    3    8\n",
       "3    4   11\n",
       "4    5   10"
      ]
     },
     "execution_count": 127,
     "metadata": {},
     "output_type": "execute_result"
    }
   ],
   "source": [
    "dic_data = {'dia': [1,2,3,4,5], 'mes': [2,5,8,11,10]}\n",
    "df_c=pd.DataFrame(dic_data)\n",
    "df_c"
   ]
  },
  {
   "cell_type": "markdown",
   "id": "804ab89b-e2be-4b77-b5be-9bced54faf44",
   "metadata": {},
   "source": [
    "<h4>E quiséssemos formar uma coluna de data juntando dia e mês?</h4>"
   ]
  },
  {
   "cell_type": "markdown",
   "id": "cc3926aa-6dc6-45fa-94e8-c3e0a3b3954c",
   "metadata": {},
   "source": [
    "<h4>Bastaria concatenar ambas, assegurando que fossem do tipo string (object):</h4>"
   ]
  },
  {
   "cell_type": "code",
   "execution_count": 128,
   "id": "bb74f682-a91d-4d7f-b8ea-db403a752d61",
   "metadata": {},
   "outputs": [
    {
     "data": {
      "text/html": [
       "<div>\n",
       "<style scoped>\n",
       "    .dataframe tbody tr th:only-of-type {\n",
       "        vertical-align: middle;\n",
       "    }\n",
       "\n",
       "    .dataframe tbody tr th {\n",
       "        vertical-align: top;\n",
       "    }\n",
       "\n",
       "    .dataframe thead th {\n",
       "        text-align: right;\n",
       "    }\n",
       "</style>\n",
       "<table border=\"1\" class=\"dataframe\">\n",
       "  <thead>\n",
       "    <tr style=\"text-align: right;\">\n",
       "      <th></th>\n",
       "      <th>dia</th>\n",
       "      <th>mes</th>\n",
       "      <th>data</th>\n",
       "    </tr>\n",
       "  </thead>\n",
       "  <tbody>\n",
       "    <tr>\n",
       "      <th>0</th>\n",
       "      <td>1</td>\n",
       "      <td>2</td>\n",
       "      <td>1/2</td>\n",
       "    </tr>\n",
       "    <tr>\n",
       "      <th>1</th>\n",
       "      <td>2</td>\n",
       "      <td>5</td>\n",
       "      <td>2/5</td>\n",
       "    </tr>\n",
       "    <tr>\n",
       "      <th>2</th>\n",
       "      <td>3</td>\n",
       "      <td>8</td>\n",
       "      <td>3/8</td>\n",
       "    </tr>\n",
       "    <tr>\n",
       "      <th>3</th>\n",
       "      <td>4</td>\n",
       "      <td>11</td>\n",
       "      <td>4/11</td>\n",
       "    </tr>\n",
       "    <tr>\n",
       "      <th>4</th>\n",
       "      <td>5</td>\n",
       "      <td>10</td>\n",
       "      <td>5/10</td>\n",
       "    </tr>\n",
       "  </tbody>\n",
       "</table>\n",
       "</div>"
      ],
      "text/plain": [
       "   dia  mes  data\n",
       "0    1    2   1/2\n",
       "1    2    5   2/5\n",
       "2    3    8   3/8\n",
       "3    4   11  4/11\n",
       "4    5   10  5/10"
      ]
     },
     "execution_count": 128,
     "metadata": {},
     "output_type": "execute_result"
    }
   ],
   "source": [
    "df_c['data'] = df_c['dia'].astype(str) + '/' + df_c['mes'].astype(str)\n",
    "df_c"
   ]
  },
  {
   "cell_type": "code",
   "execution_count": 129,
   "id": "0819e830-f8e6-41c2-b413-95febb2d7295",
   "metadata": {},
   "outputs": [
    {
     "data": {
      "text/html": [
       "<div>\n",
       "<style scoped>\n",
       "    .dataframe tbody tr th:only-of-type {\n",
       "        vertical-align: middle;\n",
       "    }\n",
       "\n",
       "    .dataframe tbody tr th {\n",
       "        vertical-align: top;\n",
       "    }\n",
       "\n",
       "    .dataframe thead th {\n",
       "        text-align: right;\n",
       "    }\n",
       "</style>\n",
       "<table border=\"1\" class=\"dataframe\">\n",
       "  <thead>\n",
       "    <tr style=\"text-align: right;\">\n",
       "      <th></th>\n",
       "      <th>dia</th>\n",
       "      <th>mes</th>\n",
       "      <th>data</th>\n",
       "      <th>data_convertida</th>\n",
       "    </tr>\n",
       "  </thead>\n",
       "  <tbody>\n",
       "    <tr>\n",
       "      <th>0</th>\n",
       "      <td>1</td>\n",
       "      <td>2</td>\n",
       "      <td>1/2</td>\n",
       "      <td>1900-02-01</td>\n",
       "    </tr>\n",
       "    <tr>\n",
       "      <th>1</th>\n",
       "      <td>2</td>\n",
       "      <td>5</td>\n",
       "      <td>2/5</td>\n",
       "      <td>1900-05-02</td>\n",
       "    </tr>\n",
       "    <tr>\n",
       "      <th>2</th>\n",
       "      <td>3</td>\n",
       "      <td>8</td>\n",
       "      <td>3/8</td>\n",
       "      <td>1900-08-03</td>\n",
       "    </tr>\n",
       "    <tr>\n",
       "      <th>3</th>\n",
       "      <td>4</td>\n",
       "      <td>11</td>\n",
       "      <td>4/11</td>\n",
       "      <td>1900-11-04</td>\n",
       "    </tr>\n",
       "    <tr>\n",
       "      <th>4</th>\n",
       "      <td>5</td>\n",
       "      <td>10</td>\n",
       "      <td>5/10</td>\n",
       "      <td>1900-10-05</td>\n",
       "    </tr>\n",
       "  </tbody>\n",
       "</table>\n",
       "</div>"
      ],
      "text/plain": [
       "   dia  mes  data data_convertida\n",
       "0    1    2   1/2      1900-02-01\n",
       "1    2    5   2/5      1900-05-02\n",
       "2    3    8   3/8      1900-08-03\n",
       "3    4   11  4/11      1900-11-04\n",
       "4    5   10  5/10      1900-10-05"
      ]
     },
     "execution_count": 129,
     "metadata": {},
     "output_type": "execute_result"
    }
   ],
   "source": [
    "df_c['data_convertida'] = pd.to_datetime(df_c['data'],format='%d/%m')\n",
    "df_c"
   ]
  },
  {
   "cell_type": "code",
   "execution_count": 130,
   "id": "2b131b1b-c489-4673-a908-b250b3bd5809",
   "metadata": {},
   "outputs": [
    {
     "data": {
      "text/html": [
       "<div>\n",
       "<style scoped>\n",
       "    .dataframe tbody tr th:only-of-type {\n",
       "        vertical-align: middle;\n",
       "    }\n",
       "\n",
       "    .dataframe tbody tr th {\n",
       "        vertical-align: top;\n",
       "    }\n",
       "\n",
       "    .dataframe thead th {\n",
       "        text-align: right;\n",
       "    }\n",
       "</style>\n",
       "<table border=\"1\" class=\"dataframe\">\n",
       "  <thead>\n",
       "    <tr style=\"text-align: right;\">\n",
       "      <th></th>\n",
       "      <th>dia</th>\n",
       "      <th>mes</th>\n",
       "      <th>data</th>\n",
       "      <th>data_convertida</th>\n",
       "    </tr>\n",
       "  </thead>\n",
       "  <tbody>\n",
       "    <tr>\n",
       "      <th>0</th>\n",
       "      <td>1</td>\n",
       "      <td>2</td>\n",
       "      <td>1/2</td>\n",
       "      <td>1900-02-01</td>\n",
       "    </tr>\n",
       "    <tr>\n",
       "      <th>1</th>\n",
       "      <td>2</td>\n",
       "      <td>5</td>\n",
       "      <td>2/5</td>\n",
       "      <td>1900-05-02</td>\n",
       "    </tr>\n",
       "    <tr>\n",
       "      <th>2</th>\n",
       "      <td>3</td>\n",
       "      <td>8</td>\n",
       "      <td>3/8</td>\n",
       "      <td>1900-08-03</td>\n",
       "    </tr>\n",
       "    <tr>\n",
       "      <th>3</th>\n",
       "      <td>4</td>\n",
       "      <td>11</td>\n",
       "      <td>4/11</td>\n",
       "      <td>1900-11-04</td>\n",
       "    </tr>\n",
       "    <tr>\n",
       "      <th>4</th>\n",
       "      <td>5</td>\n",
       "      <td>10</td>\n",
       "      <td>5/10</td>\n",
       "      <td>1900-10-05</td>\n",
       "    </tr>\n",
       "  </tbody>\n",
       "</table>\n",
       "</div>"
      ],
      "text/plain": [
       "   dia  mes  data data_convertida\n",
       "0    1    2   1/2      1900-02-01\n",
       "1    2    5   2/5      1900-05-02\n",
       "2    3    8   3/8      1900-08-03\n",
       "3    4   11  4/11      1900-11-04\n",
       "4    5   10  5/10      1900-10-05"
      ]
     },
     "execution_count": 130,
     "metadata": {},
     "output_type": "execute_result"
    }
   ],
   "source": [
    "df_c['data'] = df_c['data']\n",
    "df_c['data_convertida'] = pd.to_datetime(df_c['data'],format='%d/%m')\n",
    "df_c"
   ]
  },
  {
   "cell_type": "markdown",
   "id": "141cebe5-38b8-4fb0-8d79-1abcfa8ba0e2",
   "metadata": {},
   "source": [
    "<h4>Embora os números tivessem sem zero à esquerda, o método formatou-os corretamente, adicionando os zeros à esquerda, para manter dia e mês sempre com dois dígitos. Porém, observe que o ano padrão é 1900, uma vez que não foi especificado. Supondo que quiséssemos que o ano fosse  2023 para todas as linhas:</h4>"
   ]
  },
  {
   "cell_type": "code",
   "execution_count": 132,
   "id": "bfd51f3b-157b-4379-86cb-41056345abf1",
   "metadata": {},
   "outputs": [
    {
     "data": {
      "text/html": [
       "<div>\n",
       "<style scoped>\n",
       "    .dataframe tbody tr th:only-of-type {\n",
       "        vertical-align: middle;\n",
       "    }\n",
       "\n",
       "    .dataframe tbody tr th {\n",
       "        vertical-align: top;\n",
       "    }\n",
       "\n",
       "    .dataframe thead th {\n",
       "        text-align: right;\n",
       "    }\n",
       "</style>\n",
       "<table border=\"1\" class=\"dataframe\">\n",
       "  <thead>\n",
       "    <tr style=\"text-align: right;\">\n",
       "      <th></th>\n",
       "      <th>dia</th>\n",
       "      <th>mes</th>\n",
       "      <th>data</th>\n",
       "      <th>data_convertida</th>\n",
       "    </tr>\n",
       "  </thead>\n",
       "  <tbody>\n",
       "    <tr>\n",
       "      <th>0</th>\n",
       "      <td>1</td>\n",
       "      <td>2</td>\n",
       "      <td>1/2/2023</td>\n",
       "      <td>2023-02-01</td>\n",
       "    </tr>\n",
       "    <tr>\n",
       "      <th>1</th>\n",
       "      <td>2</td>\n",
       "      <td>5</td>\n",
       "      <td>2/5/2023</td>\n",
       "      <td>2023-05-02</td>\n",
       "    </tr>\n",
       "    <tr>\n",
       "      <th>2</th>\n",
       "      <td>3</td>\n",
       "      <td>8</td>\n",
       "      <td>3/8/2023</td>\n",
       "      <td>2023-08-03</td>\n",
       "    </tr>\n",
       "    <tr>\n",
       "      <th>3</th>\n",
       "      <td>4</td>\n",
       "      <td>11</td>\n",
       "      <td>4/11/2023</td>\n",
       "      <td>2023-11-04</td>\n",
       "    </tr>\n",
       "    <tr>\n",
       "      <th>4</th>\n",
       "      <td>5</td>\n",
       "      <td>10</td>\n",
       "      <td>5/10/2023</td>\n",
       "      <td>2023-10-05</td>\n",
       "    </tr>\n",
       "  </tbody>\n",
       "</table>\n",
       "</div>"
      ],
      "text/plain": [
       "   dia  mes       data data_convertida\n",
       "0    1    2   1/2/2023      2023-02-01\n",
       "1    2    5   2/5/2023      2023-05-02\n",
       "2    3    8   3/8/2023      2023-08-03\n",
       "3    4   11  4/11/2023      2023-11-04\n",
       "4    5   10  5/10/2023      2023-10-05"
      ]
     },
     "execution_count": 132,
     "metadata": {},
     "output_type": "execute_result"
    }
   ],
   "source": [
    "df_c['data'] = df_c['dia'].astype(str) + '/' + df_c['mes'].astype(str) + '/' + '2023'\n",
    "df_c['data_convertida'] = pd.to_datetime(df_c['data'],format='%d/%m/%Y')\n",
    "df_c"
   ]
  },
  {
   "cell_type": "markdown",
   "id": "386cc04a-ec02-4da9-b811-6564ed0d924d",
   "metadata": {},
   "source": [
    "<h4>CONCLUSÕES PARCIAIS:<br>\n",
    "- É necessário formatar a data com a formatação desejada (arg,format) antes de passá-la no pd.to_datetime(arg,format)<br>\n",
    "- O conteúdo do parâmetro format deve ser o formato da coluna original que queremos converter<br>\n",
    "- pd.to_datetime() retorna a data no formato ano-mês-dia e dtype datetime. Sendo a única combinação possível\n",
    "</H4>"
   ]
  },
  {
   "cell_type": "markdown",
   "id": "4dc50529-dbba-4855-bb66-95e2ab26c3ff",
   "metadata": {},
   "source": [
    "<h4>Uma solução para alterar a formatação do valor gerado pelo pd.to_datetime() é usando dt.strftime. Para os casos acima, vamos supor que queiramos alterar para nome abreviado do mês e 2 últimos dígitos do ano (ex. fev/23 para a primeira linha):</h4>"
   ]
  },
  {
   "cell_type": "code",
   "execution_count": 135,
   "id": "5a2f6899-5363-4ebf-992f-b4ad7ee58122",
   "metadata": {},
   "outputs": [
    {
     "data": {
      "text/html": [
       "<div>\n",
       "<style scoped>\n",
       "    .dataframe tbody tr th:only-of-type {\n",
       "        vertical-align: middle;\n",
       "    }\n",
       "\n",
       "    .dataframe tbody tr th {\n",
       "        vertical-align: top;\n",
       "    }\n",
       "\n",
       "    .dataframe thead th {\n",
       "        text-align: right;\n",
       "    }\n",
       "</style>\n",
       "<table border=\"1\" class=\"dataframe\">\n",
       "  <thead>\n",
       "    <tr style=\"text-align: right;\">\n",
       "      <th></th>\n",
       "      <th>dia</th>\n",
       "      <th>mes</th>\n",
       "      <th>data</th>\n",
       "      <th>data_convertida</th>\n",
       "      <th>data_strftime</th>\n",
       "    </tr>\n",
       "  </thead>\n",
       "  <tbody>\n",
       "    <tr>\n",
       "      <th>0</th>\n",
       "      <td>1</td>\n",
       "      <td>2</td>\n",
       "      <td>1/2/2023</td>\n",
       "      <td>2023-02-01</td>\n",
       "      <td>fev/23</td>\n",
       "    </tr>\n",
       "    <tr>\n",
       "      <th>1</th>\n",
       "      <td>2</td>\n",
       "      <td>5</td>\n",
       "      <td>2/5/2023</td>\n",
       "      <td>2023-05-02</td>\n",
       "      <td>mai/23</td>\n",
       "    </tr>\n",
       "    <tr>\n",
       "      <th>2</th>\n",
       "      <td>3</td>\n",
       "      <td>8</td>\n",
       "      <td>3/8/2023</td>\n",
       "      <td>2023-08-03</td>\n",
       "      <td>ago/23</td>\n",
       "    </tr>\n",
       "    <tr>\n",
       "      <th>3</th>\n",
       "      <td>4</td>\n",
       "      <td>11</td>\n",
       "      <td>4/11/2023</td>\n",
       "      <td>2023-11-04</td>\n",
       "      <td>nov/23</td>\n",
       "    </tr>\n",
       "    <tr>\n",
       "      <th>4</th>\n",
       "      <td>5</td>\n",
       "      <td>10</td>\n",
       "      <td>5/10/2023</td>\n",
       "      <td>2023-10-05</td>\n",
       "      <td>out/23</td>\n",
       "    </tr>\n",
       "  </tbody>\n",
       "</table>\n",
       "</div>"
      ],
      "text/plain": [
       "   dia  mes       data data_convertida data_strftime\n",
       "0    1    2   1/2/2023      2023-02-01        fev/23\n",
       "1    2    5   2/5/2023      2023-05-02        mai/23\n",
       "2    3    8   3/8/2023      2023-08-03        ago/23\n",
       "3    4   11  4/11/2023      2023-11-04        nov/23\n",
       "4    5   10  5/10/2023      2023-10-05        out/23"
      ]
     },
     "execution_count": 135,
     "metadata": {},
     "output_type": "execute_result"
    }
   ],
   "source": [
    "df_c['data_strftime'] = df_c['data_convertida'].dt.strftime('%b/%y')\n",
    "df_c"
   ]
  },
  {
   "cell_type": "markdown",
   "id": "75adf9d9-0b02-42f4-860f-a36d46f87e77",
   "metadata": {},
   "source": [
    "<h4>Caso quiséssemos que a abreviação do mês fosse em português:</h4>"
   ]
  },
  {
   "cell_type": "code",
   "execution_count": 134,
   "id": "ccf303c2-02da-4842-a566-9a94d0d682b9",
   "metadata": {},
   "outputs": [
    {
     "data": {
      "text/html": [
       "<div>\n",
       "<style scoped>\n",
       "    .dataframe tbody tr th:only-of-type {\n",
       "        vertical-align: middle;\n",
       "    }\n",
       "\n",
       "    .dataframe tbody tr th {\n",
       "        vertical-align: top;\n",
       "    }\n",
       "\n",
       "    .dataframe thead th {\n",
       "        text-align: right;\n",
       "    }\n",
       "</style>\n",
       "<table border=\"1\" class=\"dataframe\">\n",
       "  <thead>\n",
       "    <tr style=\"text-align: right;\">\n",
       "      <th></th>\n",
       "      <th>dia</th>\n",
       "      <th>mes</th>\n",
       "      <th>data</th>\n",
       "      <th>data_convertida</th>\n",
       "      <th>data_strftime</th>\n",
       "    </tr>\n",
       "  </thead>\n",
       "  <tbody>\n",
       "    <tr>\n",
       "      <th>0</th>\n",
       "      <td>1</td>\n",
       "      <td>2</td>\n",
       "      <td>1/2/2023</td>\n",
       "      <td>2023-02-01</td>\n",
       "      <td>fev/23</td>\n",
       "    </tr>\n",
       "    <tr>\n",
       "      <th>1</th>\n",
       "      <td>2</td>\n",
       "      <td>5</td>\n",
       "      <td>2/5/2023</td>\n",
       "      <td>2023-05-02</td>\n",
       "      <td>mai/23</td>\n",
       "    </tr>\n",
       "    <tr>\n",
       "      <th>2</th>\n",
       "      <td>3</td>\n",
       "      <td>8</td>\n",
       "      <td>3/8/2023</td>\n",
       "      <td>2023-08-03</td>\n",
       "      <td>ago/23</td>\n",
       "    </tr>\n",
       "    <tr>\n",
       "      <th>3</th>\n",
       "      <td>4</td>\n",
       "      <td>11</td>\n",
       "      <td>4/11/2023</td>\n",
       "      <td>2023-11-04</td>\n",
       "      <td>nov/23</td>\n",
       "    </tr>\n",
       "    <tr>\n",
       "      <th>4</th>\n",
       "      <td>5</td>\n",
       "      <td>10</td>\n",
       "      <td>5/10/2023</td>\n",
       "      <td>2023-10-05</td>\n",
       "      <td>out/23</td>\n",
       "    </tr>\n",
       "  </tbody>\n",
       "</table>\n",
       "</div>"
      ],
      "text/plain": [
       "   dia  mes       data data_convertida data_strftime\n",
       "0    1    2   1/2/2023      2023-02-01        fev/23\n",
       "1    2    5   2/5/2023      2023-05-02        mai/23\n",
       "2    3    8   3/8/2023      2023-08-03        ago/23\n",
       "3    4   11  4/11/2023      2023-11-04        nov/23\n",
       "4    5   10  5/10/2023      2023-10-05        out/23"
      ]
     },
     "execution_count": 134,
     "metadata": {},
     "output_type": "execute_result"
    }
   ],
   "source": [
    "import locale \n",
    "locale.setlocale(locale.LC_TIME, \"sv_SE\")\n",
    "df_c['data_strftime'] = df_c['data_convertida'].dt.strftime('%b/%y')\n",
    "df_c"
   ]
  },
  {
   "cell_type": "code",
   "execution_count": 98,
   "id": "3f053030-f1d6-4d22-8fad-fcebf498cc53",
   "metadata": {},
   "outputs": [
    {
     "data": {
      "text/plain": [
       "dia                         int64\n",
       "mes                         int64\n",
       "data                       object\n",
       "data_convertida    datetime64[ns]\n",
       "data_strftime              object\n",
       "dtype: object"
      ]
     },
     "execution_count": 98,
     "metadata": {},
     "output_type": "execute_result"
    }
   ],
   "source": [
    "df_c.dtypes"
   ]
  },
  {
   "cell_type": "markdown",
   "id": "cfc2df1a-e902-4e09-8597-b3039c5badba",
   "metadata": {},
   "source": [
    "<h4>Porém, observe que, o dtype da coluna é object (str)</h4>"
   ]
  },
  {
   "cell_type": "markdown",
   "id": "373668e3-c436-4b9b-b13e-539df3deb139",
   "metadata": {},
   "source": [
    "<h4>Uma outra situação frequente é a coluna da data estar com números inteiros:</h4>"
   ]
  },
  {
   "cell_type": "code",
   "execution_count": 99,
   "id": "17d2ca27-2a7c-4288-8bed-ce704dda15c1",
   "metadata": {},
   "outputs": [
    {
     "data": {
      "text/html": [
       "<div>\n",
       "<style scoped>\n",
       "    .dataframe tbody tr th:only-of-type {\n",
       "        vertical-align: middle;\n",
       "    }\n",
       "\n",
       "    .dataframe tbody tr th {\n",
       "        vertical-align: top;\n",
       "    }\n",
       "\n",
       "    .dataframe thead th {\n",
       "        text-align: right;\n",
       "    }\n",
       "</style>\n",
       "<table border=\"1\" class=\"dataframe\">\n",
       "  <thead>\n",
       "    <tr style=\"text-align: right;\">\n",
       "      <th></th>\n",
       "      <th>data</th>\n",
       "    </tr>\n",
       "  </thead>\n",
       "  <tbody>\n",
       "    <tr>\n",
       "      <th>0</th>\n",
       "      <td>19570</td>\n",
       "    </tr>\n",
       "    <tr>\n",
       "      <th>1</th>\n",
       "      <td>19676</td>\n",
       "    </tr>\n",
       "    <tr>\n",
       "      <th>2</th>\n",
       "      <td>19709</td>\n",
       "    </tr>\n",
       "    <tr>\n",
       "      <th>3</th>\n",
       "      <td>19710</td>\n",
       "    </tr>\n",
       "  </tbody>\n",
       "</table>\n",
       "</div>"
      ],
      "text/plain": [
       "    data\n",
       "0  19570\n",
       "1  19676\n",
       "2  19709\n",
       "3  19710"
      ]
     },
     "execution_count": 99,
     "metadata": {},
     "output_type": "execute_result"
    }
   ],
   "source": [
    "dic_data = {'data': [19570,19676,19709,19710]}\n",
    "df_d = pd.DataFrame(dic_data)\n",
    "df_d"
   ]
  },
  {
   "cell_type": "markdown",
   "id": "bbe02f91-6373-4564-86d7-1451edeb563c",
   "metadata": {},
   "source": [
    "<h4>Essses números representam, geralmente, a quantidade de dias (unit) a partir de uma determinada data inicial (origin). No pd.to_datetime(), há o parâmetro unit, o qual especifica a unidade de medida de tempo, geralmente dias (D), e o parâmetro origin, com a data inicial da contagem. Por padrão, origin é 01/01/1970 (unit)</h4>"
   ]
  },
  {
   "cell_type": "code",
   "execution_count": 102,
   "id": "f1264e16-cd99-4dad-b2d7-d7bdf36d50a0",
   "metadata": {},
   "outputs": [
    {
     "data": {
      "text/html": [
       "<div>\n",
       "<style scoped>\n",
       "    .dataframe tbody tr th:only-of-type {\n",
       "        vertical-align: middle;\n",
       "    }\n",
       "\n",
       "    .dataframe tbody tr th {\n",
       "        vertical-align: top;\n",
       "    }\n",
       "\n",
       "    .dataframe thead th {\n",
       "        text-align: right;\n",
       "    }\n",
       "</style>\n",
       "<table border=\"1\" class=\"dataframe\">\n",
       "  <thead>\n",
       "    <tr style=\"text-align: right;\">\n",
       "      <th></th>\n",
       "      <th>data</th>\n",
       "      <th>data_format</th>\n",
       "    </tr>\n",
       "  </thead>\n",
       "  <tbody>\n",
       "    <tr>\n",
       "      <th>0</th>\n",
       "      <td>19570.0</td>\n",
       "      <td>2023-08-01</td>\n",
       "    </tr>\n",
       "    <tr>\n",
       "      <th>1</th>\n",
       "      <td>19676.0</td>\n",
       "      <td>2023-11-15</td>\n",
       "    </tr>\n",
       "    <tr>\n",
       "      <th>2</th>\n",
       "      <td>19709.0</td>\n",
       "      <td>2023-12-18</td>\n",
       "    </tr>\n",
       "    <tr>\n",
       "      <th>3</th>\n",
       "      <td>19710.0</td>\n",
       "      <td>2023-12-19</td>\n",
       "    </tr>\n",
       "    <tr>\n",
       "      <th>4</th>\n",
       "      <td>1.0</td>\n",
       "      <td>1970-01-02</td>\n",
       "    </tr>\n",
       "  </tbody>\n",
       "</table>\n",
       "</div>"
      ],
      "text/plain": [
       "      data data_format\n",
       "0  19570.0  2023-08-01\n",
       "1  19676.0  2023-11-15\n",
       "2  19709.0  2023-12-18\n",
       "3  19710.0  2023-12-19\n",
       "4      1.0  1970-01-02"
      ]
     },
     "execution_count": 102,
     "metadata": {},
     "output_type": "execute_result"
    }
   ],
   "source": [
    "df_d['data_format'] = pd.to_datetime(df_d['data'],unit='D',origin='unix')\n",
    "df_d"
   ]
  },
  {
   "cell_type": "markdown",
   "id": "177d8468-a22a-4267-b1ac-5210439fe3d4",
   "metadata": {},
   "source": [
    "<h4>Caso tivesse uma data = 1:</h4>"
   ]
  },
  {
   "cell_type": "code",
   "execution_count": 103,
   "id": "230673bd-f90f-4e07-96d8-f89f9dd076ed",
   "metadata": {},
   "outputs": [
    {
     "data": {
      "text/html": [
       "<div>\n",
       "<style scoped>\n",
       "    .dataframe tbody tr th:only-of-type {\n",
       "        vertical-align: middle;\n",
       "    }\n",
       "\n",
       "    .dataframe tbody tr th {\n",
       "        vertical-align: top;\n",
       "    }\n",
       "\n",
       "    .dataframe thead th {\n",
       "        text-align: right;\n",
       "    }\n",
       "</style>\n",
       "<table border=\"1\" class=\"dataframe\">\n",
       "  <thead>\n",
       "    <tr style=\"text-align: right;\">\n",
       "      <th></th>\n",
       "      <th>data</th>\n",
       "      <th>data_format</th>\n",
       "    </tr>\n",
       "  </thead>\n",
       "  <tbody>\n",
       "    <tr>\n",
       "      <th>0</th>\n",
       "      <td>19570.0</td>\n",
       "      <td>2023-08-01</td>\n",
       "    </tr>\n",
       "    <tr>\n",
       "      <th>1</th>\n",
       "      <td>19676.0</td>\n",
       "      <td>2023-11-15</td>\n",
       "    </tr>\n",
       "    <tr>\n",
       "      <th>2</th>\n",
       "      <td>19709.0</td>\n",
       "      <td>2023-12-18</td>\n",
       "    </tr>\n",
       "    <tr>\n",
       "      <th>3</th>\n",
       "      <td>19710.0</td>\n",
       "      <td>2023-12-19</td>\n",
       "    </tr>\n",
       "    <tr>\n",
       "      <th>4</th>\n",
       "      <td>1.0</td>\n",
       "      <td>1970-01-02</td>\n",
       "    </tr>\n",
       "  </tbody>\n",
       "</table>\n",
       "</div>"
      ],
      "text/plain": [
       "      data data_format\n",
       "0  19570.0  2023-08-01\n",
       "1  19676.0  2023-11-15\n",
       "2  19709.0  2023-12-18\n",
       "3  19710.0  2023-12-19\n",
       "4      1.0  1970-01-02"
      ]
     },
     "execution_count": 103,
     "metadata": {},
     "output_type": "execute_result"
    }
   ],
   "source": [
    "df_d.loc[4,'data'] = 1\n",
    "df_d"
   ]
  },
  {
   "cell_type": "code",
   "execution_count": 76,
   "id": "4fa80aa9-87a3-4230-9fb2-e3e4ac2d5e4e",
   "metadata": {},
   "outputs": [
    {
     "data": {
      "text/html": [
       "<div>\n",
       "<style scoped>\n",
       "    .dataframe tbody tr th:only-of-type {\n",
       "        vertical-align: middle;\n",
       "    }\n",
       "\n",
       "    .dataframe tbody tr th {\n",
       "        vertical-align: top;\n",
       "    }\n",
       "\n",
       "    .dataframe thead th {\n",
       "        text-align: right;\n",
       "    }\n",
       "</style>\n",
       "<table border=\"1\" class=\"dataframe\">\n",
       "  <thead>\n",
       "    <tr style=\"text-align: right;\">\n",
       "      <th></th>\n",
       "      <th>data</th>\n",
       "      <th>data_format</th>\n",
       "    </tr>\n",
       "  </thead>\n",
       "  <tbody>\n",
       "    <tr>\n",
       "      <th>0</th>\n",
       "      <td>19570.0</td>\n",
       "      <td>2023-08-01</td>\n",
       "    </tr>\n",
       "    <tr>\n",
       "      <th>1</th>\n",
       "      <td>19676.0</td>\n",
       "      <td>2023-11-15</td>\n",
       "    </tr>\n",
       "    <tr>\n",
       "      <th>2</th>\n",
       "      <td>19709.0</td>\n",
       "      <td>2023-12-18</td>\n",
       "    </tr>\n",
       "    <tr>\n",
       "      <th>3</th>\n",
       "      <td>19710.0</td>\n",
       "      <td>2023-12-19</td>\n",
       "    </tr>\n",
       "    <tr>\n",
       "      <th>4</th>\n",
       "      <td>1.0</td>\n",
       "      <td>1970-01-02</td>\n",
       "    </tr>\n",
       "  </tbody>\n",
       "</table>\n",
       "</div>"
      ],
      "text/plain": [
       "      data data_format\n",
       "0  19570.0  2023-08-01\n",
       "1  19676.0  2023-11-15\n",
       "2  19709.0  2023-12-18\n",
       "3  19710.0  2023-12-19\n",
       "4      1.0  1970-01-02"
      ]
     },
     "execution_count": 76,
     "metadata": {},
     "output_type": "execute_result"
    }
   ],
   "source": [
    "df['data_format'] = pd.to_datetime(df['data'],unit='D',origin='unix')\n",
    "df"
   ]
  },
  {
   "cell_type": "markdown",
   "id": "50e0f0cb-73a9-4d89-8868-7be2eb3dfec8",
   "metadata": {},
   "source": [
    "<h4>Ou seja, o nº 1 representa 1 dia após a data especificada no parâmetro origin (01/01/1970)</h4>"
   ]
  },
  {
   "cell_type": "markdown",
   "id": "23e33cf9-18ad-49de-9bfa-75c7921deeb4",
   "metadata": {},
   "source": [
    "<H4>CONCLUSÃO<br>\n",
    "- a função pd.to_datetime() é responsável pela conversão do dtype para datetime, onde é possível fazer operações com datas<br>\n",
    "- relação de siglas para cada elemento/formato: https://www.w3schools.com/python/python_datetime.asp<br>\n",
    "- o principal parâmetro do to_datetime() é arg, que é a coluna com a data. Caso necessário, é possível alterar a formatação da coluna com a data. Caso o dia e ano forem emitidos, o Pandas atribui 01 e 1900, respectivamente<br>\n",
    "- o pd.to_datetime() retorna a data no formato 2020-10-20, com dtype datetime<br>\n",
    "- caso necessário, é possível mudar a formatação do valor gerado pela função com o dt.strftime(), especificando o formato desejado. Porém, o dtype deixa de ser datetime, e vira object (str)</H4>"
   ]
  }
 ],
 "metadata": {
  "kernelspec": {
   "display_name": "Python 3 (ipykernel)",
   "language": "python",
   "name": "python3"
  },
  "language_info": {
   "codemirror_mode": {
    "name": "ipython",
    "version": 3
   },
   "file_extension": ".py",
   "mimetype": "text/x-python",
   "name": "python",
   "nbconvert_exporter": "python",
   "pygments_lexer": "ipython3",
   "version": "3.12.3"
  }
 },
 "nbformat": 4,
 "nbformat_minor": 5
}
